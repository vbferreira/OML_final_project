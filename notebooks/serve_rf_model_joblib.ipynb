{
 "cells": [
  {
   "cell_type": "code",
   "execution_count": 2,
   "metadata": {},
   "outputs": [
    {
     "name": "stdout",
     "output_type": "stream",
     "text": [
      "Modelo comprimido guardado com sucesso.\n"
     ]
    }
   ],
   "source": [
    "import mlflow\n",
    "import joblib\n",
    "\n",
    "# Caminho absoluto para a pasta onde está o modelo\n",
    "model_path = r\"C:\\Users\\vferreir\\OneDrive - Ensign Bickford Industries, Inc\\Documents\\Courses_attended\\PG_DataDcience\\7.Operacionalizacao_ML\\OML_final_project_clean\\mlruns\\773736397415668486\\2ad5aca2276f49cca441ed60c30d0679\\artifacts\\model\"\n",
    "\n",
    "# Carregar o modelo diretamente do caminho local\n",
    "model = mlflow.sklearn.load_model(model_path)\n",
    "\n",
    "# Compressão máxima com zlib e protocolo binário mais leve\n",
    "joblib.dump(model, \"model_rf_compressed.joblib\", compress=('zlib', 9), protocol=5)\n",
    "\n",
    "\n",
    "\n",
    "print(\"Modelo comprimido guardado com sucesso.\")\n",
    "\n"
   ]
  }
 ],
 "metadata": {
  "kernelspec": {
   "display_name": "OML-project",
   "language": "python",
   "name": "python3"
  },
  "language_info": {
   "codemirror_mode": {
    "name": "ipython",
    "version": 3
   },
   "file_extension": ".py",
   "mimetype": "text/x-python",
   "name": "python",
   "nbconvert_exporter": "python",
   "pygments_lexer": "ipython3",
   "version": "3.12.4"
  }
 },
 "nbformat": 4,
 "nbformat_minor": 2
}
